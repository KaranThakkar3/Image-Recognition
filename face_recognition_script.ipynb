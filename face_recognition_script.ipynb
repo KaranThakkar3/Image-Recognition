{
 "cells": [
  {
   "cell_type": "code",
   "execution_count": 8,
   "id": "93f47d4e",
   "metadata": {},
   "outputs": [
    {
     "name": "stdout",
     "output_type": "stream",
     "text": [
      "Is the unknown face a picture of Vance? False\n",
      "Is the unknown face a picture of Walz? False\n",
      "Is the unknown face a new person that we've never seen before? True\n"
     ]
    }
   ],
   "source": [
    "import face_recognition\n",
    "\n",
    "# Load the images into numpy arrays\n",
    "vance_image = face_recognition.load_image_file(\"vance1.jpg\")\n",
    "walz_image = face_recognition.load_image_file(\"walz1.jpg\")\n",
    "unknown_image = face_recognition.load_image_file(\"harris.jpg\")\n",
    "\n",
    "# Extract face encodings from the images\n",
    "# Each image may contain multiple faces, so the function returns a list of encodings.\n",
    "# Since I expect only one face per image, I specifically take the first encoding (index 0).\n",
    "try:\n",
    "    vance_face_encoding = face_recognition.face_encodings(vance_image)[0]\n",
    "    walz_face_encoding = face_recognition.face_encodings(walz_image)[0]\n",
    "    unknown_face_encoding = face_recognition.face_encodings(unknown_image)[0]\n",
    "except IndexError:\n",
    "    print(\"I wasn't able to locate any faces in at least one of the images. Check the image files. Aborting...\")\n",
    "    quit()\n",
    "\n",
    "# Create a list of known face encodings for comparison\n",
    "\n",
    "known_faces = [\n",
    "    vance_face_encoding,\n",
    "    walz_face_encoding\n",
    "]\n",
    "\n",
    "# Compare the unknown face encoding against the known faces and return an array of match results\n",
    "results = face_recognition.compare_faces(known_faces, unknown_face_encoding)\n",
    "\n",
    "# Output whether the unknown face matches either Vance or Walz\n",
    "print(\"Is the unknown face a picture of Vance? {}\".format(results[0]))\n",
    "print(\"Is the unknown face a picture of Walz? {}\".format(results[1]))\n",
    "print(\"Is the unknown face a new person that we've never seen before? {}\".format(not True in results))"
   ]
  },
  {
   "cell_type": "code",
   "execution_count": null,
   "id": "fbe015a8",
   "metadata": {},
   "outputs": [],
   "source": []
  }
 ],
 "metadata": {
  "kernelspec": {
   "display_name": "Python 3 (ipykernel)",
   "language": "python",
   "name": "python3"
  },
  "language_info": {
   "codemirror_mode": {
    "name": "ipython",
    "version": 3
   },
   "file_extension": ".py",
   "mimetype": "text/x-python",
   "name": "python",
   "nbconvert_exporter": "python",
   "pygments_lexer": "ipython3",
   "version": "3.11.7"
  }
 },
 "nbformat": 4,
 "nbformat_minor": 5
}
